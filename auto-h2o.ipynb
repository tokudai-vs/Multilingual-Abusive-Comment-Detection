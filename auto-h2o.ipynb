{
 "cells": [
  {
   "cell_type": "code",
   "execution_count": 1,
   "id": "31fb2c54",
   "metadata": {
    "_cell_guid": "b1076dfc-b9ad-4769-8c92-a6c4dae69d19",
    "_uuid": "8f2839f25d086af736a60e9eeb907d3b93b6e0e5",
    "execution": {
     "iopub.execute_input": "2021-11-19T18:55:12.173133Z",
     "iopub.status.busy": "2021-11-19T18:55:12.172013Z",
     "iopub.status.idle": "2021-11-19T18:55:12.182016Z",
     "shell.execute_reply": "2021-11-19T18:55:12.182470Z",
     "shell.execute_reply.started": "2021-11-19T18:48:27.964637Z"
    },
    "papermill": {
     "duration": 0.02182,
     "end_time": "2021-11-19T18:55:12.182791",
     "exception": false,
     "start_time": "2021-11-19T18:55:12.160971",
     "status": "completed"
    },
    "tags": []
   },
   "outputs": [
    {
     "name": "stdout",
     "output_type": "stream",
     "text": [
      "/kaggle/input/multilingualabusivecomment/ShareChat-IndoML-Datathon-NSFW-CommentChallenge_Test_20_Percent_NoLabel.csv\n",
      "/kaggle/input/multilingualabusivecomment/ShareChat-IndoML-Datathon-NSFW-CommentChallenge_Train.csv\n"
     ]
    }
   ],
   "source": [
    "# This Python 3 environment comes with many helpful analytics libraries installed\n",
    "# It is defined by the kaggle/python Docker image: https://github.com/kaggle/docker-python\n",
    "# For example, here's several helpful packages to load\n",
    "\n",
    "import numpy as np # linear algebra\n",
    "import pandas as pd # data processing, CSV file I/O (e.g. pd.read_csv)\n",
    "\n",
    "# Input data files are available in the read-only \"../input/\" directory\n",
    "# For example, running this (by clicking run or pressing Shift+Enter) will list all files under the input directory\n",
    "\n",
    "import os\n",
    "for dirname, _, filenames in os.walk('/kaggle/input'):\n",
    "    for filename in filenames:\n",
    "        print(os.path.join(dirname, filename))\n",
    "\n",
    "# You can write up to 20GB to the current directory (/kaggle/working/) that gets preserved as output when you create a version using \"Save & Run All\" \n",
    "# You can also write temporary files to /kaggle/temp/, but they won't be saved outside of the current session"
   ]
  },
  {
   "cell_type": "code",
   "execution_count": 2,
   "id": "a5fabd7c",
   "metadata": {
    "execution": {
     "iopub.execute_input": "2021-11-19T18:55:12.201769Z",
     "iopub.status.busy": "2021-11-19T18:55:12.200985Z",
     "iopub.status.idle": "2021-11-19T18:55:19.533427Z",
     "shell.execute_reply": "2021-11-19T18:55:19.534096Z",
     "shell.execute_reply.started": "2021-11-19T18:48:39.124198Z"
    },
    "papermill": {
     "duration": 7.344248,
     "end_time": "2021-11-19T18:55:19.534309",
     "exception": false,
     "start_time": "2021-11-19T18:55:12.190061",
     "status": "completed"
    },
    "tags": []
   },
   "outputs": [
    {
     "name": "stdout",
     "output_type": "stream",
     "text": [
      "3.34.0.3\n",
      "Checking whether there is an H2O instance running at http://localhost:54321 ..... not found.\n",
      "Attempting to start a local H2O server...\n",
      "  Java Version: openjdk version \"11.0.11\" 2021-04-20; OpenJDK Runtime Environment (build 11.0.11+9-Ubuntu-0ubuntu2.18.04); OpenJDK 64-Bit Server VM (build 11.0.11+9-Ubuntu-0ubuntu2.18.04, mixed mode, sharing)\n",
      "  Starting server from /opt/conda/lib/python3.7/site-packages/h2o/backend/bin/h2o.jar\n",
      "  Ice root: /tmp/tmp3tz568b2\n",
      "  JVM stdout: /tmp/tmp3tz568b2/h2o_unknownUser_started_from_python.out\n",
      "  JVM stderr: /tmp/tmp3tz568b2/h2o_unknownUser_started_from_python.err\n",
      "  Server is running at http://127.0.0.1:54321\n",
      "Connecting to H2O server at http://127.0.0.1:54321 ... successful.\n"
     ]
    },
    {
     "data": {
      "text/html": [
       "<div style=\"overflow:auto\"><table style=\"width:50%\"><tr><td>H2O_cluster_uptime:</td>\n",
       "<td>02 secs</td></tr>\n",
       "<tr><td>H2O_cluster_timezone:</td>\n",
       "<td>Etc/UTC</td></tr>\n",
       "<tr><td>H2O_data_parsing_timezone:</td>\n",
       "<td>UTC</td></tr>\n",
       "<tr><td>H2O_cluster_version:</td>\n",
       "<td>3.34.0.3</td></tr>\n",
       "<tr><td>H2O_cluster_version_age:</td>\n",
       "<td>1 month and 12 days </td></tr>\n",
       "<tr><td>H2O_cluster_name:</td>\n",
       "<td>H2O_from_python_unknownUser_jd1stk</td></tr>\n",
       "<tr><td>H2O_cluster_total_nodes:</td>\n",
       "<td>1</td></tr>\n",
       "<tr><td>H2O_cluster_free_memory:</td>\n",
       "<td>16 Gb</td></tr>\n",
       "<tr><td>H2O_cluster_total_cores:</td>\n",
       "<td>4</td></tr>\n",
       "<tr><td>H2O_cluster_allowed_cores:</td>\n",
       "<td>4</td></tr>\n",
       "<tr><td>H2O_cluster_status:</td>\n",
       "<td>locked, healthy</td></tr>\n",
       "<tr><td>H2O_connection_url:</td>\n",
       "<td>http://127.0.0.1:54321</td></tr>\n",
       "<tr><td>H2O_connection_proxy:</td>\n",
       "<td>{\"http\": null, \"https\": null}</td></tr>\n",
       "<tr><td>H2O_internal_security:</td>\n",
       "<td>False</td></tr>\n",
       "<tr><td>H2O_API_Extensions:</td>\n",
       "<td>Amazon S3, XGBoost, Algos, AutoML, Core V3, TargetEncoder, Core V4</td></tr>\n",
       "<tr><td>Python_version:</td>\n",
       "<td>3.7.10 final</td></tr></table></div>"
      ],
      "text/plain": [
       "--------------------------  ------------------------------------------------------------------\n",
       "H2O_cluster_uptime:         02 secs\n",
       "H2O_cluster_timezone:       Etc/UTC\n",
       "H2O_data_parsing_timezone:  UTC\n",
       "H2O_cluster_version:        3.34.0.3\n",
       "H2O_cluster_version_age:    1 month and 12 days\n",
       "H2O_cluster_name:           H2O_from_python_unknownUser_jd1stk\n",
       "H2O_cluster_total_nodes:    1\n",
       "H2O_cluster_free_memory:    16 Gb\n",
       "H2O_cluster_total_cores:    4\n",
       "H2O_cluster_allowed_cores:  4\n",
       "H2O_cluster_status:         locked, healthy\n",
       "H2O_connection_url:         http://127.0.0.1:54321\n",
       "H2O_connection_proxy:       {\"http\": null, \"https\": null}\n",
       "H2O_internal_security:      False\n",
       "H2O_API_Extensions:         Amazon S3, XGBoost, Algos, AutoML, Core V3, TargetEncoder, Core V4\n",
       "Python_version:             3.7.10 final\n",
       "--------------------------  ------------------------------------------------------------------"
      ]
     },
     "metadata": {},
     "output_type": "display_data"
    }
   ],
   "source": [
    "import h2o\n",
    "print(h2o.__version__)\n",
    "\n",
    "from h2o.automl import H2OAutoML\n",
    "\n",
    "h2o.init(max_mem_size='16G')"
   ]
  },
  {
   "cell_type": "code",
   "execution_count": 3,
   "id": "b646db59",
   "metadata": {
    "execution": {
     "iopub.execute_input": "2021-11-19T18:55:19.567105Z",
     "iopub.status.busy": "2021-11-19T18:55:19.566224Z",
     "iopub.status.idle": "2021-11-19T18:55:32.523152Z",
     "shell.execute_reply": "2021-11-19T18:55:32.522000Z",
     "shell.execute_reply.started": "2021-11-19T18:50:15.732251Z"
    },
    "papermill": {
     "duration": 12.97458,
     "end_time": "2021-11-19T18:55:32.523389",
     "exception": false,
     "start_time": "2021-11-19T18:55:19.548809",
     "status": "completed"
    },
    "tags": []
   },
   "outputs": [
    {
     "name": "stdout",
     "output_type": "stream",
     "text": [
      "Parse progress: |████████████████████████████████████████████████████████████████| (done) 100%\n",
      "Parse progress: |████████████████████████████████████████████████████████████████| (done) 100%\n"
     ]
    }
   ],
   "source": [
    "train = h2o.import_file(path = \"/kaggle/input/multilingualabusivecomment/ShareChat-IndoML-Datathon-NSFW-CommentChallenge_Train.csv\")\n",
    "test = h2o.import_file(path = \"/kaggle/input/multilingualabusivecomment/ShareChat-IndoML-Datathon-NSFW-CommentChallenge_Test_20_Percent_NoLabel.csv\")"
   ]
  },
  {
   "cell_type": "code",
   "execution_count": 4,
   "id": "e2e16544",
   "metadata": {
    "execution": {
     "iopub.execute_input": "2021-11-19T18:55:32.617401Z",
     "iopub.status.busy": "2021-11-19T18:55:32.616670Z",
     "iopub.status.idle": "2021-11-19T18:55:32.619481Z",
     "shell.execute_reply": "2021-11-19T18:55:32.618887Z",
     "shell.execute_reply.started": "2021-11-19T18:51:18.454979Z"
    },
    "papermill": {
     "duration": 0.032685,
     "end_time": "2021-11-19T18:55:32.619619",
     "exception": false,
     "start_time": "2021-11-19T18:55:32.586934",
     "status": "completed"
    },
    "tags": []
   },
   "outputs": [],
   "source": [
    "x = train.columns\n",
    "y = 'label'\n",
    "x.remove(y)"
   ]
  },
  {
   "cell_type": "code",
   "execution_count": 5,
   "id": "7799110b",
   "metadata": {
    "execution": {
     "iopub.execute_input": "2021-11-19T18:55:32.671574Z",
     "iopub.status.busy": "2021-11-19T18:55:32.671018Z",
     "iopub.status.idle": "2021-11-20T00:14:11.050713Z",
     "shell.execute_reply": "2021-11-20T00:14:11.051650Z"
    },
    "papermill": {
     "duration": 19118.408401,
     "end_time": "2021-11-20T00:14:11.052968",
     "exception": false,
     "start_time": "2021-11-19T18:55:32.644567",
     "status": "completed"
    },
    "tags": []
   },
   "outputs": [
    {
     "name": "stdout",
     "output_type": "stream",
     "text": [
      "AutoML progress: |\n",
      "18:55:34.874: XGBoost_1_AutoML_1_20211119_185532 [XGBoost def_2] failed: water.exceptions.H2OModelBuilderIllegalArgumentException: Illegal argument(s) for XGBoost model: XGBoost_1_AutoML_1_20211119_185532_cv_1.  Details: ERRR on field: _response_column: Response contains missing values (NAs) - not supported by XGBoost.\n",
      "\n",
      "\n",
      "██████████████████████████████████████████\n",
      "19:02:52.20: XGBoost_2_AutoML_1_20211119_185532 [XGBoost def_1] failed: water.exceptions.H2OModelBuilderIllegalArgumentException: Illegal argument(s) for XGBoost model: XGBoost_2_AutoML_1_20211119_185532_cv_1.  Details: ERRR on field: _response_column: Response contains missing values (NAs) - not supported by XGBoost.\n",
      "\n",
      "\n",
      "████████████████████\n",
      "19:27:04.376: XGBoost_3_AutoML_1_20211119_185532 [XGBoost def_3] failed: water.exceptions.H2OModelBuilderIllegalArgumentException: Illegal argument(s) for XGBoost model: XGBoost_3_AutoML_1_20211119_185532_cv_1.  Details: ERRR on field: _response_column: Response contains missing values (NAs) - not supported by XGBoost.\n",
      "\n",
      "\n",
      "\n",
      "19:36:59.490: DeepLearning_1_AutoML_1_20211119_185532 [DeepLearning def_1] failed: DistributedException from /127.0.0.1:54321: '\n",
      "\n",
      "Trying to predict with an unstable model.\n",
      "Job was aborted due to observed numerical instability (exponential growth).\n",
      "Either the weights or the bias values are unreasonably large or lead to large activation values.\n",
      "Try a different initial distribution, a bounded activation function (Tanh), adding regularization\n",
      "(via max_w2, l1, l2, dropout) or learning rate (either enable adaptive_rate or use a smaller learning rate or faster annealing).\n",
      "\n",
      "For more information visit:\n",
      "  http://jira.h2o.ai/browse/TN-4', caused by java.lang.UnsupportedOperationException: \n",
      "\n",
      "Trying to predict with an unstable model.\n",
      "Job was aborted due to observed numerical instability (exponential growth).\n",
      "Either the weights or the bias values are unreasonably large or lead to large activation values.\n",
      "Try a different initial distribution, a bounded activation function (Tanh), adding regularization\n",
      "(via max_w2, l1, l2, dropout) or learning rate (either enable adaptive_rate or use a smaller learning rate or faster annealing).\n",
      "\n",
      "For more information visit:\n",
      "  http://jira.h2o.ai/browse/TN-4\n",
      "\n",
      "█\n",
      "22:39:37.548: StackedEnsemble_BestOfFamily_6_AutoML_1_20211119_185532 [StackedEnsemble best_of_family_xgboost (built with xgboost metalearner, using top model from each algorithm type)] failed: java.lang.RuntimeException: water.exceptions.H2OModelBuilderIllegalArgumentException: Illegal argument(s) for XGBoost model: metalearner_xgboost_StackedEnsemble_BestOfFamily_6_AutoML_1_20211119_185532_cv_1.  Details: ERRR on field: _response_column: Response contains missing values (NAs) - not supported by XGBoost.\n",
      "\n",
      "\n",
      "\n",
      "22:41:49.583: StackedEnsemble_AllModels_5_AutoML_1_20211119_185532 [StackedEnsemble all_xgboost (built with xgboost metalearner, using all AutoML models)] failed: java.lang.RuntimeException: water.exceptions.H2OModelBuilderIllegalArgumentException: Illegal argument(s) for XGBoost model: metalearner_xgboost_StackedEnsemble_AllModels_5_AutoML_1_20211119_185532_cv_1.  Details: ERRR on field: _response_column: Response contains missing values (NAs) - not supported by XGBoost.\n",
      "\n",
      "\n",
      "| (done) 100%\n",
      "Model Details\n",
      "=============\n",
      "H2OStackedEnsembleEstimator :  Stacked Ensemble\n",
      "Model Key:  StackedEnsemble_AllModels_1_AutoML_1_20211119_185532\n",
      "\n",
      "No model summary for this model\n",
      "\n",
      "ModelMetricsRegressionGLM: stackedensemble\n",
      "** Reported on train data. **\n",
      "\n",
      "MSE: 54.743770562958105\n",
      "RMSE: 7.398903335154346\n",
      "MAE: 1.0411710210545047\n",
      "RMSLE: NaN\n",
      "R^2: -295.7882423022938\n",
      "Mean Residual Deviance: 54.743770562958105\n",
      "Null degrees of freedom: 10008\n",
      "Residual degrees of freedom: 10007\n",
      "Null deviance: 42693.117518209256\n",
      "Residual deviance: 547930.3995646477\n",
      "AIC: 68472.97135544624\n",
      "\n",
      "ModelMetricsRegressionGLM: stackedensemble\n",
      "** Reported on cross-validation data. **\n",
      "\n",
      "MSE: 438770.67196083366\n",
      "RMSE: 662.3976690484604\n",
      "MAE: 3.143112428627089\n",
      "RMSLE: NaN\n",
      "R^2: 0.6934316450950886\n",
      "Mean Residual Deviance: 438770.67196083366\n",
      "Null degrees of freedom: 1482230\n",
      "Residual degrees of freedom: 1482228\n",
      "Null deviance: 2121420004534.4282\n",
      "Residual deviance: 650359491871.1785\n",
      "AIC: 23463145.5254725\n"
     ]
    },
    {
     "data": {
      "text/plain": []
     },
     "execution_count": 5,
     "metadata": {},
     "output_type": "execute_result"
    }
   ],
   "source": [
    "aml = H2OAutoML(max_models=30, seed=0, max_runtime_secs_per_model=600)\n",
    "\n",
    "aml.train(x=x, y=y, training_frame=train,)"
   ]
  },
  {
   "cell_type": "code",
   "execution_count": 6,
   "id": "04aa5c0e",
   "metadata": {
    "execution": {
     "iopub.execute_input": "2021-11-20T00:14:11.166552Z",
     "iopub.status.busy": "2021-11-20T00:14:11.165509Z",
     "iopub.status.idle": "2021-11-20T00:14:11.196871Z",
     "shell.execute_reply": "2021-11-20T00:14:11.196265Z"
    },
    "papermill": {
     "duration": 0.08213,
     "end_time": "2021-11-20T00:14:11.197016",
     "exception": false,
     "start_time": "2021-11-20T00:14:11.114886",
     "status": "completed"
    },
    "tags": []
   },
   "outputs": [
    {
     "data": {
      "text/html": [
       "<table>\n",
       "<thead>\n",
       "<tr><th>model_id                                               </th><th style=\"text-align: right;\">  mean_residual_deviance</th><th style=\"text-align: right;\">            rmse</th><th style=\"text-align: right;\">             mse</th><th style=\"text-align: right;\">         mae</th><th style=\"text-align: right;\">     rmsle</th></tr>\n",
       "</thead>\n",
       "<tbody>\n",
       "<tr><td>StackedEnsemble_AllModels_1_AutoML_1_20211119_185532   </td><td style=\"text-align: right;\">        438771          </td><td style=\"text-align: right;\">   662.398      </td><td style=\"text-align: right;\">438771          </td><td style=\"text-align: right;\">     3.14311</td><td style=\"text-align: right;\">nan       </td></tr>\n",
       "<tr><td>GBM_grid_1_AutoML_1_20211119_185532_model_32           </td><td style=\"text-align: right;\">        443386          </td><td style=\"text-align: right;\">   665.872      </td><td style=\"text-align: right;\">443386          </td><td style=\"text-align: right;\">     2.24117</td><td style=\"text-align: right;\">nan       </td></tr>\n",
       "<tr><td>StackedEnsemble_BestOfFamily_3_AutoML_1_20211119_185532</td><td style=\"text-align: right;\">        453725          </td><td style=\"text-align: right;\">   673.591      </td><td style=\"text-align: right;\">453725          </td><td style=\"text-align: right;\">     3.11302</td><td style=\"text-align: right;\">nan       </td></tr>\n",
       "<tr><td>GBM_grid_1_AutoML_1_20211119_185532_model_36           </td><td style=\"text-align: right;\">        475666          </td><td style=\"text-align: right;\">   689.686      </td><td style=\"text-align: right;\">475666          </td><td style=\"text-align: right;\">     2.14783</td><td style=\"text-align: right;\">nan       </td></tr>\n",
       "<tr><td>StackedEnsemble_BestOfFamily_4_AutoML_1_20211119_185532</td><td style=\"text-align: right;\">        482715          </td><td style=\"text-align: right;\">   694.777      </td><td style=\"text-align: right;\">482715          </td><td style=\"text-align: right;\">     4.66949</td><td style=\"text-align: right;\">nan       </td></tr>\n",
       "<tr><td>GBM_grid_1_AutoML_1_20211119_185532_model_30           </td><td style=\"text-align: right;\">        510271          </td><td style=\"text-align: right;\">   714.332      </td><td style=\"text-align: right;\">510271          </td><td style=\"text-align: right;\">     2.63473</td><td style=\"text-align: right;\">nan       </td></tr>\n",
       "<tr><td>StackedEnsemble_AllModels_2_AutoML_1_20211119_185532   </td><td style=\"text-align: right;\">        521428          </td><td style=\"text-align: right;\">   722.1        </td><td style=\"text-align: right;\">521428          </td><td style=\"text-align: right;\">     3.24367</td><td style=\"text-align: right;\">nan       </td></tr>\n",
       "<tr><td>StackedEnsemble_BestOfFamily_2_AutoML_1_20211119_185532</td><td style=\"text-align: right;\">        524954          </td><td style=\"text-align: right;\">   724.537      </td><td style=\"text-align: right;\">524954          </td><td style=\"text-align: right;\">     3.23816</td><td style=\"text-align: right;\">nan       </td></tr>\n",
       "<tr><td>GBM_grid_1_AutoML_1_20211119_185532_model_22           </td><td style=\"text-align: right;\">        535122          </td><td style=\"text-align: right;\">   731.52       </td><td style=\"text-align: right;\">535122          </td><td style=\"text-align: right;\">     2.19124</td><td style=\"text-align: right;\">nan       </td></tr>\n",
       "<tr><td>GBM_grid_1_AutoML_1_20211119_185532_model_34           </td><td style=\"text-align: right;\">        542445          </td><td style=\"text-align: right;\">   736.509      </td><td style=\"text-align: right;\">542445          </td><td style=\"text-align: right;\">     2.27729</td><td style=\"text-align: right;\">nan       </td></tr>\n",
       "<tr><td>StackedEnsemble_BestOfFamily_5_AutoML_1_20211119_185532</td><td style=\"text-align: right;\">        544201          </td><td style=\"text-align: right;\">   737.7        </td><td style=\"text-align: right;\">544201          </td><td style=\"text-align: right;\">     3.24387</td><td style=\"text-align: right;\">nan       </td></tr>\n",
       "<tr><td>StackedEnsemble_BestOfFamily_8_AutoML_1_20211119_185532</td><td style=\"text-align: right;\">        557309          </td><td style=\"text-align: right;\">   746.531      </td><td style=\"text-align: right;\">557309          </td><td style=\"text-align: right;\">     3.03814</td><td style=\"text-align: right;\">nan       </td></tr>\n",
       "<tr><td>GBM_grid_1_AutoML_1_20211119_185532_model_28           </td><td style=\"text-align: right;\">        558650          </td><td style=\"text-align: right;\">   747.429      </td><td style=\"text-align: right;\">558650          </td><td style=\"text-align: right;\">     2.32637</td><td style=\"text-align: right;\">nan       </td></tr>\n",
       "<tr><td>GBM_1_AutoML_1_20211119_185532                         </td><td style=\"text-align: right;\">        559161          </td><td style=\"text-align: right;\">   747.771      </td><td style=\"text-align: right;\">559161          </td><td style=\"text-align: right;\">     2.37608</td><td style=\"text-align: right;\">nan       </td></tr>\n",
       "<tr><td>StackedEnsemble_Best1000_1_AutoML_1_20211119_185532    </td><td style=\"text-align: right;\">        587046          </td><td style=\"text-align: right;\">   766.189      </td><td style=\"text-align: right;\">587046          </td><td style=\"text-align: right;\">    14.283  </td><td style=\"text-align: right;\">nan       </td></tr>\n",
       "<tr><td>StackedEnsemble_BestOfFamily_9_AutoML_1_20211119_185532</td><td style=\"text-align: right;\">        597291          </td><td style=\"text-align: right;\">   772.846      </td><td style=\"text-align: right;\">597291          </td><td style=\"text-align: right;\">     3.43607</td><td style=\"text-align: right;\">nan       </td></tr>\n",
       "<tr><td>GBM_grid_1_AutoML_1_20211119_185532_model_1            </td><td style=\"text-align: right;\">        620474          </td><td style=\"text-align: right;\">   787.702      </td><td style=\"text-align: right;\">620474          </td><td style=\"text-align: right;\">     2.78233</td><td style=\"text-align: right;\">nan       </td></tr>\n",
       "<tr><td>GBM_grid_1_AutoML_1_20211119_185532_model_38           </td><td style=\"text-align: right;\">        622883          </td><td style=\"text-align: right;\">   789.229      </td><td style=\"text-align: right;\">622883          </td><td style=\"text-align: right;\">     2.59106</td><td style=\"text-align: right;\">nan       </td></tr>\n",
       "<tr><td>StackedEnsemble_AllModels_3_AutoML_1_20211119_185532   </td><td style=\"text-align: right;\">        627176          </td><td style=\"text-align: right;\">   791.944      </td><td style=\"text-align: right;\">627176          </td><td style=\"text-align: right;\">     4.52062</td><td style=\"text-align: right;\">nan       </td></tr>\n",
       "<tr><td>GBM_grid_1_AutoML_1_20211119_185532_model_27           </td><td style=\"text-align: right;\">        629599          </td><td style=\"text-align: right;\">   793.473      </td><td style=\"text-align: right;\">629599          </td><td style=\"text-align: right;\">     2.68062</td><td style=\"text-align: right;\">nan       </td></tr>\n",
       "<tr><td>StackedEnsemble_AllModels_4_AutoML_1_20211119_185532   </td><td style=\"text-align: right;\">        631753          </td><td style=\"text-align: right;\">   794.829      </td><td style=\"text-align: right;\">631753          </td><td style=\"text-align: right;\">    15.3932 </td><td style=\"text-align: right;\">nan       </td></tr>\n",
       "<tr><td>GBM_grid_1_AutoML_1_20211119_185532_model_23           </td><td style=\"text-align: right;\">        635533          </td><td style=\"text-align: right;\">   797.204      </td><td style=\"text-align: right;\">635533          </td><td style=\"text-align: right;\">     2.74225</td><td style=\"text-align: right;\">nan       </td></tr>\n",
       "<tr><td>GBM_grid_1_AutoML_1_20211119_185532_model_8            </td><td style=\"text-align: right;\">        644552          </td><td style=\"text-align: right;\">   802.84       </td><td style=\"text-align: right;\">644552          </td><td style=\"text-align: right;\">     2.26734</td><td style=\"text-align: right;\">nan       </td></tr>\n",
       "<tr><td>GBM_grid_1_AutoML_1_20211119_185532_model_25           </td><td style=\"text-align: right;\">        661561          </td><td style=\"text-align: right;\">   813.364      </td><td style=\"text-align: right;\">661561          </td><td style=\"text-align: right;\">     2.69017</td><td style=\"text-align: right;\">nan       </td></tr>\n",
       "<tr><td>GBM_grid_1_AutoML_1_20211119_185532_model_19           </td><td style=\"text-align: right;\">        675562          </td><td style=\"text-align: right;\">   821.926      </td><td style=\"text-align: right;\">675562          </td><td style=\"text-align: right;\">     2.85234</td><td style=\"text-align: right;\">nan       </td></tr>\n",
       "<tr><td>GBM_grid_1_AutoML_1_20211119_185532_model_7            </td><td style=\"text-align: right;\">        676393          </td><td style=\"text-align: right;\">   822.431      </td><td style=\"text-align: right;\">676393          </td><td style=\"text-align: right;\">     2.47716</td><td style=\"text-align: right;\">nan       </td></tr>\n",
       "<tr><td>GBM_grid_1_AutoML_1_20211119_185532_model_9            </td><td style=\"text-align: right;\">        687769          </td><td style=\"text-align: right;\">   829.318      </td><td style=\"text-align: right;\">687769          </td><td style=\"text-align: right;\">     2.87475</td><td style=\"text-align: right;\">nan       </td></tr>\n",
       "<tr><td>GBM_3_AutoML_1_20211119_185532                         </td><td style=\"text-align: right;\">        700876          </td><td style=\"text-align: right;\">   837.183      </td><td style=\"text-align: right;\">700876          </td><td style=\"text-align: right;\">     2.64274</td><td style=\"text-align: right;\">nan       </td></tr>\n",
       "<tr><td>GBM_grid_1_AutoML_1_20211119_185532_model_26           </td><td style=\"text-align: right;\">        707696          </td><td style=\"text-align: right;\">   841.247      </td><td style=\"text-align: right;\">707696          </td><td style=\"text-align: right;\">     2.81298</td><td style=\"text-align: right;\">nan       </td></tr>\n",
       "<tr><td>GBM_grid_1_AutoML_1_20211119_185532_model_2            </td><td style=\"text-align: right;\">        718165          </td><td style=\"text-align: right;\">   847.446      </td><td style=\"text-align: right;\">718165          </td><td style=\"text-align: right;\">     2.47557</td><td style=\"text-align: right;\">nan       </td></tr>\n",
       "<tr><td>GBM_grid_1_AutoML_1_20211119_185532_model_24           </td><td style=\"text-align: right;\">        742082          </td><td style=\"text-align: right;\">   861.442      </td><td style=\"text-align: right;\">742082          </td><td style=\"text-align: right;\">     2.8782 </td><td style=\"text-align: right;\">nan       </td></tr>\n",
       "<tr><td>GBM_grid_1_AutoML_1_20211119_185532_model_21           </td><td style=\"text-align: right;\">        752794          </td><td style=\"text-align: right;\">   867.637      </td><td style=\"text-align: right;\">752794          </td><td style=\"text-align: right;\">     2.70725</td><td style=\"text-align: right;\">nan       </td></tr>\n",
       "<tr><td>GBM_grid_1_AutoML_1_20211119_185532_model_33           </td><td style=\"text-align: right;\">        766212          </td><td style=\"text-align: right;\">   875.336      </td><td style=\"text-align: right;\">766212          </td><td style=\"text-align: right;\">     2.46368</td><td style=\"text-align: right;\">nan       </td></tr>\n",
       "<tr><td>GBM_5_AutoML_1_20211119_185532                         </td><td style=\"text-align: right;\">        783494          </td><td style=\"text-align: right;\">   885.152      </td><td style=\"text-align: right;\">783494          </td><td style=\"text-align: right;\">     2.211  </td><td style=\"text-align: right;\">nan       </td></tr>\n",
       "<tr><td>GBM_grid_1_AutoML_1_20211119_185532_model_29           </td><td style=\"text-align: right;\">        786232          </td><td style=\"text-align: right;\">   886.697      </td><td style=\"text-align: right;\">786232          </td><td style=\"text-align: right;\">     2.36987</td><td style=\"text-align: right;\">nan       </td></tr>\n",
       "<tr><td>GBM_4_AutoML_1_20211119_185532                         </td><td style=\"text-align: right;\">        787028          </td><td style=\"text-align: right;\">   887.146      </td><td style=\"text-align: right;\">787028          </td><td style=\"text-align: right;\">     2.69772</td><td style=\"text-align: right;\">nan       </td></tr>\n",
       "<tr><td>GBM_2_AutoML_1_20211119_185532                         </td><td style=\"text-align: right;\">        821202          </td><td style=\"text-align: right;\">   906.202      </td><td style=\"text-align: right;\">821202          </td><td style=\"text-align: right;\">     3.04149</td><td style=\"text-align: right;\">nan       </td></tr>\n",
       "<tr><td>GBM_grid_1_AutoML_1_20211119_185532_model_20           </td><td style=\"text-align: right;\">        841948          </td><td style=\"text-align: right;\">   917.577      </td><td style=\"text-align: right;\">841948          </td><td style=\"text-align: right;\">     2.04727</td><td style=\"text-align: right;\">nan       </td></tr>\n",
       "<tr><td>GBM_grid_1_AutoML_1_20211119_185532_model_31           </td><td style=\"text-align: right;\">        901614          </td><td style=\"text-align: right;\">   949.533      </td><td style=\"text-align: right;\">901614          </td><td style=\"text-align: right;\">     2.21111</td><td style=\"text-align: right;\">nan       </td></tr>\n",
       "<tr><td>StackedEnsemble_BestOfFamily_7_AutoML_1_20211119_185532</td><td style=\"text-align: right;\">        907567          </td><td style=\"text-align: right;\">   952.663      </td><td style=\"text-align: right;\">907567          </td><td style=\"text-align: right;\">     3.31124</td><td style=\"text-align: right;\">nan       </td></tr>\n",
       "<tr><td>GBM_grid_1_AutoML_1_20211119_185532_model_39           </td><td style=\"text-align: right;\">        917337          </td><td style=\"text-align: right;\">   957.777      </td><td style=\"text-align: right;\">917337          </td><td style=\"text-align: right;\">     2.27698</td><td style=\"text-align: right;\">nan       </td></tr>\n",
       "<tr><td>GBM_grid_1_AutoML_1_20211119_185532_model_5            </td><td style=\"text-align: right;\">        923230          </td><td style=\"text-align: right;\">   960.849      </td><td style=\"text-align: right;\">923230          </td><td style=\"text-align: right;\">     2.25679</td><td style=\"text-align: right;\">nan       </td></tr>\n",
       "<tr><td>StackedEnsemble_AllModels_6_AutoML_1_20211119_185532   </td><td style=\"text-align: right;\">             1.00328e+06</td><td style=\"text-align: right;\">  1001.64       </td><td style=\"text-align: right;\">     1.00328e+06</td><td style=\"text-align: right;\">     3.26725</td><td style=\"text-align: right;\">nan       </td></tr>\n",
       "<tr><td>StackedEnsemble_BestOfFamily_1_AutoML_1_20211119_185532</td><td style=\"text-align: right;\">             1.05024e+06</td><td style=\"text-align: right;\">  1024.81       </td><td style=\"text-align: right;\">     1.05024e+06</td><td style=\"text-align: right;\">     3.83808</td><td style=\"text-align: right;\">nan       </td></tr>\n",
       "<tr><td>GBM_grid_1_AutoML_1_20211119_185532_model_6            </td><td style=\"text-align: right;\">             1.0869e+06 </td><td style=\"text-align: right;\">  1042.55       </td><td style=\"text-align: right;\">     1.0869e+06 </td><td style=\"text-align: right;\">     3.36771</td><td style=\"text-align: right;\">nan       </td></tr>\n",
       "<tr><td>XRT_1_AutoML_1_20211119_185532                         </td><td style=\"text-align: right;\">             1.09439e+06</td><td style=\"text-align: right;\">  1046.13       </td><td style=\"text-align: right;\">     1.09439e+06</td><td style=\"text-align: right;\">     6.66849</td><td style=\"text-align: right;\">  0.378727</td></tr>\n",
       "<tr><td>DRF_1_AutoML_1_20211119_185532                         </td><td style=\"text-align: right;\">             1.14215e+06</td><td style=\"text-align: right;\">  1068.71       </td><td style=\"text-align: right;\">     1.14215e+06</td><td style=\"text-align: right;\">     2.31746</td><td style=\"text-align: right;\">  0.266916</td></tr>\n",
       "<tr><td>GBM_grid_1_AutoML_1_20211119_185532_model_4            </td><td style=\"text-align: right;\">             1.14217e+06</td><td style=\"text-align: right;\">  1068.73       </td><td style=\"text-align: right;\">     1.14217e+06</td><td style=\"text-align: right;\">     3.9547 </td><td style=\"text-align: right;\">nan       </td></tr>\n",
       "<tr><td>GBM_grid_1_AutoML_1_20211119_185532_model_35           </td><td style=\"text-align: right;\">             1.14327e+06</td><td style=\"text-align: right;\">  1069.24       </td><td style=\"text-align: right;\">     1.14327e+06</td><td style=\"text-align: right;\">     3.37621</td><td style=\"text-align: right;\">nan       </td></tr>\n",
       "<tr><td>GBM_grid_1_AutoML_1_20211119_185532_model_3            </td><td style=\"text-align: right;\">             1.37301e+06</td><td style=\"text-align: right;\">  1171.75       </td><td style=\"text-align: right;\">     1.37301e+06</td><td style=\"text-align: right;\">     4.11291</td><td style=\"text-align: right;\">nan       </td></tr>\n",
       "<tr><td>GBM_grid_1_AutoML_1_20211119_185532_model_37           </td><td style=\"text-align: right;\">             1.40965e+06</td><td style=\"text-align: right;\">  1187.29       </td><td style=\"text-align: right;\">     1.40965e+06</td><td style=\"text-align: right;\">     4.07796</td><td style=\"text-align: right;\">  0.75957 </td></tr>\n",
       "<tr><td>StackedEnsemble_AllModels_7_AutoML_1_20211119_185532   </td><td style=\"text-align: right;\">             1.43118e+06</td><td style=\"text-align: right;\">  1196.32       </td><td style=\"text-align: right;\">     1.43118e+06</td><td style=\"text-align: right;\">     4.04946</td><td style=\"text-align: right;\">nan       </td></tr>\n",
       "<tr><td>GLM_1_AutoML_1_20211119_185532                         </td><td style=\"text-align: right;\">             1.43123e+06</td><td style=\"text-align: right;\">  1196.34       </td><td style=\"text-align: right;\">     1.43123e+06</td><td style=\"text-align: right;\">     4.06075</td><td style=\"text-align: right;\">  1.06245 </td></tr>\n",
       "<tr><td>DeepLearning_grid_2_AutoML_1_20211119_185532_model_4   </td><td style=\"text-align: right;\">             1.43125e+06</td><td style=\"text-align: right;\">  1196.35       </td><td style=\"text-align: right;\">     1.43125e+06</td><td style=\"text-align: right;\">     2.65113</td><td style=\"text-align: right;\">nan       </td></tr>\n",
       "<tr><td>DeepLearning_grid_1_AutoML_1_20211119_185532_model_3   </td><td style=\"text-align: right;\">             1.4369e+06 </td><td style=\"text-align: right;\">  1198.71       </td><td style=\"text-align: right;\">     1.4369e+06 </td><td style=\"text-align: right;\">     4.16865</td><td style=\"text-align: right;\">nan       </td></tr>\n",
       "<tr><td>DeepLearning_grid_1_AutoML_1_20211119_185532_model_4   </td><td style=\"text-align: right;\">             1.44142e+06</td><td style=\"text-align: right;\">  1200.59       </td><td style=\"text-align: right;\">     1.44142e+06</td><td style=\"text-align: right;\">     3.2593 </td><td style=\"text-align: right;\">nan       </td></tr>\n",
       "<tr><td>DeepLearning_grid_1_AutoML_1_20211119_185532_model_2   </td><td style=\"text-align: right;\">             3.18977e+07</td><td style=\"text-align: right;\">  5647.81       </td><td style=\"text-align: right;\">     3.18977e+07</td><td style=\"text-align: right;\">  1095.99   </td><td style=\"text-align: right;\">nan       </td></tr>\n",
       "<tr><td>DeepLearning_grid_1_AutoML_1_20211119_185532_model_1   </td><td style=\"text-align: right;\">             4.16337e+09</td><td style=\"text-align: right;\"> 64524.2        </td><td style=\"text-align: right;\">     4.16337e+09</td><td style=\"text-align: right;\">  1345.08   </td><td style=\"text-align: right;\">nan       </td></tr>\n",
       "<tr><td>DeepLearning_grid_3_AutoML_1_20211119_185532_model_4   </td><td style=\"text-align: right;\">             2.14456e+10</td><td style=\"text-align: right;\">146443          </td><td style=\"text-align: right;\">     2.14456e+10</td><td style=\"text-align: right;\"> 66375.5    </td><td style=\"text-align: right;\">nan       </td></tr>\n",
       "<tr><td>DeepLearning_grid_2_AutoML_1_20211119_185532_model_5   </td><td style=\"text-align: right;\">             7.75437e+10</td><td style=\"text-align: right;\">278467          </td><td style=\"text-align: right;\">     7.75437e+10</td><td style=\"text-align: right;\">251143      </td><td style=\"text-align: right;\">nan       </td></tr>\n",
       "<tr><td>DeepLearning_grid_2_AutoML_1_20211119_185532_model_1   </td><td style=\"text-align: right;\">             1.38369e+11</td><td style=\"text-align: right;\">371979          </td><td style=\"text-align: right;\">     1.38369e+11</td><td style=\"text-align: right;\">186745      </td><td style=\"text-align: right;\">nan       </td></tr>\n",
       "<tr><td>DeepLearning_grid_3_AutoML_1_20211119_185532_model_3   </td><td style=\"text-align: right;\">             2.44271e+11</td><td style=\"text-align: right;\">494238          </td><td style=\"text-align: right;\">     2.44271e+11</td><td style=\"text-align: right;\">364565      </td><td style=\"text-align: right;\">nan       </td></tr>\n",
       "<tr><td>DeepLearning_grid_2_AutoML_1_20211119_185532_model_2   </td><td style=\"text-align: right;\">             3.16125e+11</td><td style=\"text-align: right;\">562250          </td><td style=\"text-align: right;\">     3.16125e+11</td><td style=\"text-align: right;\">445963      </td><td style=\"text-align: right;\">nan       </td></tr>\n",
       "<tr><td>DeepLearning_grid_3_AutoML_1_20211119_185532_model_2   </td><td style=\"text-align: right;\">             5.14062e+11</td><td style=\"text-align: right;\">716981          </td><td style=\"text-align: right;\">     5.14062e+11</td><td style=\"text-align: right;\">618521      </td><td style=\"text-align: right;\">nan       </td></tr>\n",
       "<tr><td>DeepLearning_grid_2_AutoML_1_20211119_185532_model_3   </td><td style=\"text-align: right;\">             1.4454e+12 </td><td style=\"text-align: right;\">     1.20225e+06</td><td style=\"text-align: right;\">     1.4454e+12 </td><td style=\"text-align: right;\">906896      </td><td style=\"text-align: right;\">nan       </td></tr>\n",
       "</tbody>\n",
       "</table>"
      ]
     },
     "metadata": {},
     "output_type": "display_data"
    },
    {
     "data": {
      "text/plain": []
     },
     "execution_count": 6,
     "metadata": {},
     "output_type": "execute_result"
    }
   ],
   "source": [
    "lb = aml.leaderboard\n",
    "lb.head(rows=lb.nrows)"
   ]
  },
  {
   "cell_type": "code",
   "execution_count": 7,
   "id": "7e474130",
   "metadata": {
    "execution": {
     "iopub.execute_input": "2021-11-20T00:14:11.288944Z",
     "iopub.status.busy": "2021-11-20T00:14:11.287996Z",
     "iopub.status.idle": "2021-11-20T00:14:11.306760Z",
     "shell.execute_reply": "2021-11-20T00:14:11.307655Z"
    },
    "papermill": {
     "duration": 0.068246,
     "end_time": "2021-11-20T00:14:11.307931",
     "exception": false,
     "start_time": "2021-11-20T00:14:11.239685",
     "status": "completed"
    },
    "tags": []
   },
   "outputs": [
    {
     "name": "stdout",
     "output_type": "stream",
     "text": [
      "Model Details\n",
      "=============\n",
      "H2OStackedEnsembleEstimator :  Stacked Ensemble\n",
      "Model Key:  StackedEnsemble_AllModels_1_AutoML_1_20211119_185532\n",
      "\n",
      "No model summary for this model\n",
      "\n",
      "ModelMetricsRegressionGLM: stackedensemble\n",
      "** Reported on train data. **\n",
      "\n",
      "MSE: 54.743770562958105\n",
      "RMSE: 7.398903335154346\n",
      "MAE: 1.0411710210545047\n",
      "RMSLE: NaN\n",
      "R^2: -295.7882423022938\n",
      "Mean Residual Deviance: 54.743770562958105\n",
      "Null degrees of freedom: 10008\n",
      "Residual degrees of freedom: 10007\n",
      "Null deviance: 42693.117518209256\n",
      "Residual deviance: 547930.3995646477\n",
      "AIC: 68472.97135544624\n",
      "\n",
      "ModelMetricsRegressionGLM: stackedensemble\n",
      "** Reported on cross-validation data. **\n",
      "\n",
      "MSE: 438770.67196083366\n",
      "RMSE: 662.3976690484604\n",
      "MAE: 3.143112428627089\n",
      "RMSLE: NaN\n",
      "R^2: 0.6934316450950886\n",
      "Mean Residual Deviance: 438770.67196083366\n",
      "Null degrees of freedom: 1482230\n",
      "Residual degrees of freedom: 1482228\n",
      "Null deviance: 2121420004534.4282\n",
      "Residual deviance: 650359491871.1785\n",
      "AIC: 23463145.5254725\n"
     ]
    },
    {
     "data": {
      "text/plain": []
     },
     "execution_count": 7,
     "metadata": {},
     "output_type": "execute_result"
    }
   ],
   "source": [
    "aml.leader"
   ]
  },
  {
   "cell_type": "code",
   "execution_count": 8,
   "id": "9989ec31",
   "metadata": {
    "execution": {
     "iopub.execute_input": "2021-11-20T00:14:11.405352Z",
     "iopub.status.busy": "2021-11-20T00:14:11.401537Z",
     "iopub.status.idle": "2021-11-20T00:14:14.073514Z",
     "shell.execute_reply": "2021-11-20T00:14:14.074175Z"
    },
    "papermill": {
     "duration": 2.718846,
     "end_time": "2021-11-20T00:14:14.074416",
     "exception": false,
     "start_time": "2021-11-20T00:14:11.355570",
     "status": "completed"
    },
    "tags": []
   },
   "outputs": [
    {
     "name": "stdout",
     "output_type": "stream",
     "text": [
      "stackedensemble prediction progress: |███████████████████████████████████████████| (done) 100%\n"
     ]
    },
    {
     "name": "stderr",
     "output_type": "stream",
     "text": [
      "/opt/conda/lib/python3.7/site-packages/h2o/job.py:83: UserWarning: Test/Validation dataset column 'language' has levels not trained on: [\"10020\", \"112227\", \"115239\", \"124077\", \"13413\", \"13551\", \"150398\", \"152843\", \"16385\", \"176313\", ...35 not listed..., \"86981\", \"?পাগলচোদা মেয়ে 🙆 ?...\", \"following\", \"ja re randi ke baccha ja\"\", \"n\", \"nahi chipkali\", \"namely; whether for user data or take down requests. we received the highest number of legal requests from the state of kerala followed by telangana. out of the 41 legal requests\", \"positive dik diye dekho j ai tuku baccha meyer koto talent ❤\"\", \"ಎಲ್ಲ ಬೆಲೆ ಜಾಸ್ತಿ ಮಾಡಿ ಕೂಡ ದೇಶ ಉದ್ದಾರ ಮಾಡ್ಲಿಕ್ಕೆ ಆಗ್ಲಿಲ್ಲ ದೇಶ ಮಾರಿ ಉದ್ದಾರ ಮಾಡ್ತಿಯಾ!ಕೊನೆಗೆ ಜನಸಾಮಾನ್ಯರನ್ನ ಮಾರಿ ಬಿಡ್ತೀಯ ಬಿಜೆಪಿ ಉದ್ದಾರ ಮಾಡಲು ಜನರ ತಾಳ್ಮೆ ಪರೀಕ್ಷೆ ಮಾಡುತ್ತಿದ್ದೀಯ ಎಚ್ಚರಿಕೆ!!!\"\", \"🤔🤔\"\"]\n",
      "  warnings.warn(w)\n"
     ]
    }
   ],
   "source": [
    "preds = aml.predict(test)"
   ]
  },
  {
   "cell_type": "code",
   "execution_count": 9,
   "id": "e36f3478",
   "metadata": {
    "execution": {
     "iopub.execute_input": "2021-11-20T00:14:14.173841Z",
     "iopub.status.busy": "2021-11-20T00:14:14.172946Z",
     "iopub.status.idle": "2021-11-20T00:14:14.318441Z",
     "shell.execute_reply": "2021-11-20T00:14:14.317834Z"
    },
    "papermill": {
     "duration": 0.194249,
     "end_time": "2021-11-20T00:14:14.319843",
     "exception": true,
     "start_time": "2021-11-20T00:14:14.125594",
     "status": "failed"
    },
    "tags": []
   },
   "outputs": [
    {
     "ename": "H2OResponseError",
     "evalue": "Server error java.lang.IllegalArgumentException:\n  Error: Column commentId not found\n  Request: POST /99/Rapids\n    data: {'ast': \"(tmp= py_208_sid_9e04 (cols_py ShareChat_IndoML_Datathon_NSFW_CommentChallenge_Test_20_Percent_NoLabel.hex 'commentId'))\", 'session_id': '_sid_9e04'}\n",
     "output_type": "error",
     "traceback": [
      "\u001b[0;31m---------------------------------------------------------------------------\u001b[0m",
      "\u001b[0;31mH2OResponseError\u001b[0m                          Traceback (most recent call last)",
      "\u001b[0;32m/tmp/ipykernel_19/993227107.py\u001b[0m in \u001b[0;36m<module>\u001b[0;34m\u001b[0m\n\u001b[0;32m----> 1\u001b[0;31m \u001b[0midx\u001b[0m \u001b[0;34m=\u001b[0m \u001b[0mtest\u001b[0m\u001b[0;34m[\u001b[0m\u001b[0;34m'commentId'\u001b[0m\u001b[0;34m]\u001b[0m\u001b[0;34m.\u001b[0m\u001b[0mas_data_frame\u001b[0m\u001b[0;34m(\u001b[0m\u001b[0;34m)\u001b[0m\u001b[0;34m.\u001b[0m\u001b[0mvalues\u001b[0m\u001b[0;34m.\u001b[0m\u001b[0mflatten\u001b[0m\u001b[0;34m(\u001b[0m\u001b[0;34m)\u001b[0m\u001b[0;34m\u001b[0m\u001b[0;34m\u001b[0m\u001b[0m\n\u001b[0m\u001b[1;32m      2\u001b[0m \u001b[0mfault\u001b[0m \u001b[0;34m=\u001b[0m \u001b[0mpreds\u001b[0m\u001b[0;34m.\u001b[0m\u001b[0mas_data_frame\u001b[0m\u001b[0;34m(\u001b[0m\u001b[0;34m)\u001b[0m\u001b[0;34m.\u001b[0m\u001b[0mvalues\u001b[0m\u001b[0;34m.\u001b[0m\u001b[0mflatten\u001b[0m\u001b[0;34m(\u001b[0m\u001b[0;34m)\u001b[0m\u001b[0;34m\u001b[0m\u001b[0;34m\u001b[0m\u001b[0m\n\u001b[1;32m      3\u001b[0m \u001b[0;34m\u001b[0m\u001b[0m\n\u001b[1;32m      4\u001b[0m \u001b[0;34m\u001b[0m\u001b[0m\n\u001b[1;32m      5\u001b[0m \u001b[0mbigdata\u001b[0m \u001b[0;34m=\u001b[0m \u001b[0mnp\u001b[0m\u001b[0;34m.\u001b[0m\u001b[0mcolumn_stack\u001b[0m\u001b[0;34m(\u001b[0m\u001b[0;34m(\u001b[0m\u001b[0midx\u001b[0m\u001b[0;34m,\u001b[0m\u001b[0mfault\u001b[0m\u001b[0;34m)\u001b[0m\u001b[0;34m)\u001b[0m\u001b[0;34m\u001b[0m\u001b[0;34m\u001b[0m\u001b[0m\n",
      "\u001b[0;32m/opt/conda/lib/python3.7/site-packages/h2o/frame.py\u001b[0m in \u001b[0;36mas_data_frame\u001b[0;34m(self, use_pandas, header)\u001b[0m\n\u001b[1;32m   2162\u001b[0m         \u001b[0;32mif\u001b[0m \u001b[0mcan_use_pandas\u001b[0m\u001b[0;34m(\u001b[0m\u001b[0;34m)\u001b[0m \u001b[0;32mand\u001b[0m \u001b[0muse_pandas\u001b[0m\u001b[0;34m:\u001b[0m\u001b[0;34m\u001b[0m\u001b[0;34m\u001b[0m\u001b[0m\n\u001b[1;32m   2163\u001b[0m             \u001b[0;32mimport\u001b[0m \u001b[0mpandas\u001b[0m\u001b[0;34m\u001b[0m\u001b[0;34m\u001b[0m\u001b[0m\n\u001b[0;32m-> 2164\u001b[0;31m             \u001b[0;32mreturn\u001b[0m \u001b[0mpandas\u001b[0m\u001b[0;34m.\u001b[0m\u001b[0mread_csv\u001b[0m\u001b[0;34m(\u001b[0m\u001b[0mStringIO\u001b[0m\u001b[0;34m(\u001b[0m\u001b[0mself\u001b[0m\u001b[0;34m.\u001b[0m\u001b[0mget_frame_data\u001b[0m\u001b[0;34m(\u001b[0m\u001b[0;34m)\u001b[0m\u001b[0;34m)\u001b[0m\u001b[0;34m,\u001b[0m \u001b[0mlow_memory\u001b[0m\u001b[0;34m=\u001b[0m\u001b[0;32mFalse\u001b[0m\u001b[0;34m,\u001b[0m \u001b[0mskip_blank_lines\u001b[0m\u001b[0;34m=\u001b[0m\u001b[0;32mFalse\u001b[0m\u001b[0;34m)\u001b[0m\u001b[0;34m\u001b[0m\u001b[0;34m\u001b[0m\u001b[0m\n\u001b[0m\u001b[1;32m   2165\u001b[0m         \u001b[0;32mfrom\u001b[0m \u001b[0mh2o\u001b[0m\u001b[0;34m.\u001b[0m\u001b[0mutils\u001b[0m\u001b[0;34m.\u001b[0m\u001b[0mcsv\u001b[0m\u001b[0;34m.\u001b[0m\u001b[0mreaders\u001b[0m \u001b[0;32mimport\u001b[0m \u001b[0mreader\u001b[0m\u001b[0;34m\u001b[0m\u001b[0;34m\u001b[0m\u001b[0m\n\u001b[1;32m   2166\u001b[0m         \u001b[0mframe\u001b[0m \u001b[0;34m=\u001b[0m \u001b[0;34m[\u001b[0m\u001b[0mrow\u001b[0m \u001b[0;32mfor\u001b[0m \u001b[0mrow\u001b[0m \u001b[0;32min\u001b[0m \u001b[0mreader\u001b[0m\u001b[0;34m(\u001b[0m\u001b[0mStringIO\u001b[0m\u001b[0;34m(\u001b[0m\u001b[0mself\u001b[0m\u001b[0;34m.\u001b[0m\u001b[0mget_frame_data\u001b[0m\u001b[0;34m(\u001b[0m\u001b[0;34m)\u001b[0m\u001b[0;34m)\u001b[0m\u001b[0;34m)\u001b[0m\u001b[0;34m]\u001b[0m\u001b[0;34m\u001b[0m\u001b[0;34m\u001b[0m\u001b[0m\n",
      "\u001b[0;32m/opt/conda/lib/python3.7/site-packages/h2o/frame.py\u001b[0m in \u001b[0;36mget_frame_data\u001b[0;34m(self)\u001b[0m\n\u001b[1;32m   2218\u001b[0m         return h2o.api(\n\u001b[1;32m   2219\u001b[0m             \u001b[0;34m\"GET /3/DownloadDataset\"\u001b[0m\u001b[0;34m,\u001b[0m\u001b[0;34m\u001b[0m\u001b[0;34m\u001b[0m\u001b[0m\n\u001b[0;32m-> 2220\u001b[0;31m             \u001b[0mdata\u001b[0m\u001b[0;34m=\u001b[0m\u001b[0;34m{\u001b[0m\u001b[0;34m\"frame_id\"\u001b[0m\u001b[0;34m:\u001b[0m \u001b[0mself\u001b[0m\u001b[0;34m.\u001b[0m\u001b[0mframe_id\u001b[0m\u001b[0;34m,\u001b[0m \u001b[0;34m\"hex_string\"\u001b[0m\u001b[0;34m:\u001b[0m \u001b[0;32mFalse\u001b[0m\u001b[0;34m,\u001b[0m \u001b[0;34m\"escape_quotes\"\u001b[0m\u001b[0;34m:\u001b[0m \u001b[0;32mTrue\u001b[0m\u001b[0;34m}\u001b[0m\u001b[0;34m\u001b[0m\u001b[0;34m\u001b[0m\u001b[0m\n\u001b[0m\u001b[1;32m   2221\u001b[0m         )\n\u001b[1;32m   2222\u001b[0m \u001b[0;34m\u001b[0m\u001b[0m\n",
      "\u001b[0;32m/opt/conda/lib/python3.7/site-packages/h2o/frame.py\u001b[0m in \u001b[0;36mframe_id\u001b[0;34m(self)\u001b[0m\n\u001b[1;32m    409\u001b[0m         \u001b[0;34m>>\u001b[0m\u001b[0;34m>\u001b[0m \u001b[0mprint\u001b[0m\u001b[0;34m(\u001b[0m\u001b[0miris\u001b[0m\u001b[0;34m.\u001b[0m\u001b[0mframe_id\u001b[0m\u001b[0;34m)\u001b[0m\u001b[0;34m\u001b[0m\u001b[0;34m\u001b[0m\u001b[0m\n\u001b[1;32m    410\u001b[0m         \"\"\"\n\u001b[0;32m--> 411\u001b[0;31m         \u001b[0;32mreturn\u001b[0m \u001b[0mself\u001b[0m\u001b[0;34m.\u001b[0m\u001b[0m_frame\u001b[0m\u001b[0;34m(\u001b[0m\u001b[0;34m)\u001b[0m\u001b[0;34m.\u001b[0m\u001b[0m_ex\u001b[0m\u001b[0;34m.\u001b[0m\u001b[0m_cache\u001b[0m\u001b[0;34m.\u001b[0m\u001b[0m_id\u001b[0m\u001b[0;34m\u001b[0m\u001b[0;34m\u001b[0m\u001b[0m\n\u001b[0m\u001b[1;32m    412\u001b[0m \u001b[0;34m\u001b[0m\u001b[0m\n\u001b[1;32m    413\u001b[0m     \u001b[0;34m@\u001b[0m\u001b[0mframe_id\u001b[0m\u001b[0;34m.\u001b[0m\u001b[0msetter\u001b[0m\u001b[0;34m\u001b[0m\u001b[0;34m\u001b[0m\u001b[0m\n",
      "\u001b[0;32m/opt/conda/lib/python3.7/site-packages/h2o/frame.py\u001b[0m in \u001b[0;36m_frame\u001b[0;34m(self, rows, rows_offset, cols, cols_offset, fill_cache)\u001b[0m\n\u001b[1;32m    729\u001b[0m \u001b[0;34m\u001b[0m\u001b[0m\n\u001b[1;32m    730\u001b[0m     \u001b[0;32mdef\u001b[0m \u001b[0m_frame\u001b[0m\u001b[0;34m(\u001b[0m\u001b[0mself\u001b[0m\u001b[0;34m,\u001b[0m \u001b[0mrows\u001b[0m\u001b[0;34m=\u001b[0m\u001b[0;36m10\u001b[0m\u001b[0;34m,\u001b[0m \u001b[0mrows_offset\u001b[0m\u001b[0;34m=\u001b[0m\u001b[0;36m0\u001b[0m\u001b[0;34m,\u001b[0m \u001b[0mcols\u001b[0m\u001b[0;34m=\u001b[0m\u001b[0;34m-\u001b[0m\u001b[0;36m1\u001b[0m\u001b[0;34m,\u001b[0m \u001b[0mcols_offset\u001b[0m\u001b[0;34m=\u001b[0m\u001b[0;36m0\u001b[0m\u001b[0;34m,\u001b[0m \u001b[0mfill_cache\u001b[0m\u001b[0;34m=\u001b[0m\u001b[0;32mFalse\u001b[0m\u001b[0;34m)\u001b[0m\u001b[0;34m:\u001b[0m\u001b[0;34m\u001b[0m\u001b[0;34m\u001b[0m\u001b[0m\n\u001b[0;32m--> 731\u001b[0;31m         \u001b[0mself\u001b[0m\u001b[0;34m.\u001b[0m\u001b[0m_ex\u001b[0m\u001b[0;34m.\u001b[0m\u001b[0m_eager_frame\u001b[0m\u001b[0;34m(\u001b[0m\u001b[0;34m)\u001b[0m\u001b[0;34m\u001b[0m\u001b[0;34m\u001b[0m\u001b[0m\n\u001b[0m\u001b[1;32m    732\u001b[0m         \u001b[0;32mif\u001b[0m \u001b[0mfill_cache\u001b[0m\u001b[0;34m:\u001b[0m\u001b[0;34m\u001b[0m\u001b[0;34m\u001b[0m\u001b[0m\n\u001b[1;32m    733\u001b[0m             \u001b[0mself\u001b[0m\u001b[0;34m.\u001b[0m\u001b[0m_ex\u001b[0m\u001b[0;34m.\u001b[0m\u001b[0m_cache\u001b[0m\u001b[0;34m.\u001b[0m\u001b[0mfill\u001b[0m\u001b[0;34m(\u001b[0m\u001b[0mrows\u001b[0m\u001b[0;34m=\u001b[0m\u001b[0mrows\u001b[0m\u001b[0;34m,\u001b[0m \u001b[0mrows_offset\u001b[0m\u001b[0;34m=\u001b[0m\u001b[0mrows_offset\u001b[0m\u001b[0;34m,\u001b[0m \u001b[0mcols\u001b[0m\u001b[0;34m=\u001b[0m\u001b[0mcols\u001b[0m\u001b[0;34m,\u001b[0m \u001b[0mcols_offset\u001b[0m\u001b[0;34m=\u001b[0m\u001b[0mcols_offset\u001b[0m\u001b[0;34m)\u001b[0m\u001b[0;34m\u001b[0m\u001b[0;34m\u001b[0m\u001b[0m\n",
      "\u001b[0;32m/opt/conda/lib/python3.7/site-packages/h2o/expr.py\u001b[0m in \u001b[0;36m_eager_frame\u001b[0;34m(self)\u001b[0m\n\u001b[1;32m     88\u001b[0m         \u001b[0;32mif\u001b[0m \u001b[0;32mnot\u001b[0m \u001b[0mself\u001b[0m\u001b[0;34m.\u001b[0m\u001b[0m_cache\u001b[0m\u001b[0;34m.\u001b[0m\u001b[0mis_empty\u001b[0m\u001b[0;34m(\u001b[0m\u001b[0;34m)\u001b[0m\u001b[0;34m:\u001b[0m \u001b[0;32mreturn\u001b[0m\u001b[0;34m\u001b[0m\u001b[0;34m\u001b[0m\u001b[0m\n\u001b[1;32m     89\u001b[0m         \u001b[0;32mif\u001b[0m \u001b[0mself\u001b[0m\u001b[0;34m.\u001b[0m\u001b[0m_cache\u001b[0m\u001b[0;34m.\u001b[0m\u001b[0m_id\u001b[0m \u001b[0;32mis\u001b[0m \u001b[0;32mnot\u001b[0m \u001b[0;32mNone\u001b[0m\u001b[0;34m:\u001b[0m \u001b[0;32mreturn\u001b[0m  \u001b[0;31m# Data already computed under ID, but not cached locally\u001b[0m\u001b[0;34m\u001b[0m\u001b[0;34m\u001b[0m\u001b[0m\n\u001b[0;32m---> 90\u001b[0;31m         \u001b[0mself\u001b[0m\u001b[0;34m.\u001b[0m\u001b[0m_eval_driver\u001b[0m\u001b[0;34m(\u001b[0m\u001b[0;34m'frame'\u001b[0m\u001b[0;34m)\u001b[0m\u001b[0;34m\u001b[0m\u001b[0;34m\u001b[0m\u001b[0m\n\u001b[0m\u001b[1;32m     91\u001b[0m \u001b[0;34m\u001b[0m\u001b[0m\n\u001b[1;32m     92\u001b[0m     \u001b[0;32mdef\u001b[0m \u001b[0m_eager_scalar\u001b[0m\u001b[0;34m(\u001b[0m\u001b[0mself\u001b[0m\u001b[0;34m)\u001b[0m\u001b[0;34m:\u001b[0m  \u001b[0;31m# returns a scalar (or a list of scalars)\u001b[0m\u001b[0;34m\u001b[0m\u001b[0;34m\u001b[0m\u001b[0m\n",
      "\u001b[0;32m/opt/conda/lib/python3.7/site-packages/h2o/expr.py\u001b[0m in \u001b[0;36m_eval_driver\u001b[0;34m(self, top)\u001b[0m\n\u001b[1;32m    112\u001b[0m         \"\"\"\n\u001b[1;32m    113\u001b[0m         \u001b[0mexec_str\u001b[0m \u001b[0;34m=\u001b[0m \u001b[0mself\u001b[0m\u001b[0;34m.\u001b[0m\u001b[0m_get_ast_str\u001b[0m\u001b[0;34m(\u001b[0m\u001b[0mtop\u001b[0m\u001b[0;34m)\u001b[0m\u001b[0;34m\u001b[0m\u001b[0;34m\u001b[0m\u001b[0m\n\u001b[0;32m--> 114\u001b[0;31m         \u001b[0mres\u001b[0m \u001b[0;34m=\u001b[0m \u001b[0mExprNode\u001b[0m\u001b[0;34m.\u001b[0m\u001b[0mrapids\u001b[0m\u001b[0;34m(\u001b[0m\u001b[0mexec_str\u001b[0m\u001b[0;34m)\u001b[0m\u001b[0;34m\u001b[0m\u001b[0;34m\u001b[0m\u001b[0m\n\u001b[0m\u001b[1;32m    115\u001b[0m         \u001b[0;32mif\u001b[0m \u001b[0;34m'scalar'\u001b[0m \u001b[0;32min\u001b[0m \u001b[0mres\u001b[0m\u001b[0;34m:\u001b[0m\u001b[0;34m\u001b[0m\u001b[0;34m\u001b[0m\u001b[0m\n\u001b[1;32m    116\u001b[0m             \u001b[0;32mif\u001b[0m \u001b[0misinstance\u001b[0m\u001b[0;34m(\u001b[0m\u001b[0mres\u001b[0m\u001b[0;34m[\u001b[0m\u001b[0;34m'scalar'\u001b[0m\u001b[0;34m]\u001b[0m\u001b[0;34m,\u001b[0m \u001b[0mlist\u001b[0m\u001b[0;34m)\u001b[0m\u001b[0;34m:\u001b[0m\u001b[0;34m\u001b[0m\u001b[0;34m\u001b[0m\u001b[0m\n",
      "\u001b[0;32m/opt/conda/lib/python3.7/site-packages/h2o/expr.py\u001b[0m in \u001b[0;36mrapids\u001b[0;34m(expr)\u001b[0m\n\u001b[1;32m    256\u001b[0m         \u001b[0;34m:\u001b[0m\u001b[0mreturns\u001b[0m\u001b[0;34m:\u001b[0m \u001b[0mThe\u001b[0m \u001b[0mJSON\u001b[0m \u001b[0mresponse\u001b[0m \u001b[0;34m(\u001b[0m\u001b[0;32mas\u001b[0m \u001b[0ma\u001b[0m \u001b[0mpython\u001b[0m \u001b[0mdictionary\u001b[0m\u001b[0;34m)\u001b[0m \u001b[0mof\u001b[0m \u001b[0mthe\u001b[0m \u001b[0mRapids\u001b[0m \u001b[0mexecution\u001b[0m\u001b[0;34m\u001b[0m\u001b[0;34m\u001b[0m\u001b[0m\n\u001b[1;32m    257\u001b[0m         \"\"\"\n\u001b[0;32m--> 258\u001b[0;31m         \u001b[0;32mreturn\u001b[0m \u001b[0mh2o\u001b[0m\u001b[0;34m.\u001b[0m\u001b[0mapi\u001b[0m\u001b[0;34m(\u001b[0m\u001b[0;34m\"POST /99/Rapids\"\u001b[0m\u001b[0;34m,\u001b[0m \u001b[0mdata\u001b[0m\u001b[0;34m=\u001b[0m\u001b[0;34m{\u001b[0m\u001b[0;34m\"ast\"\u001b[0m\u001b[0;34m:\u001b[0m \u001b[0mexpr\u001b[0m\u001b[0;34m,\u001b[0m \u001b[0;34m\"session_id\"\u001b[0m\u001b[0;34m:\u001b[0m \u001b[0mh2o\u001b[0m\u001b[0;34m.\u001b[0m\u001b[0mconnection\u001b[0m\u001b[0;34m(\u001b[0m\u001b[0;34m)\u001b[0m\u001b[0;34m.\u001b[0m\u001b[0msession_id\u001b[0m\u001b[0;34m}\u001b[0m\u001b[0;34m)\u001b[0m\u001b[0;34m\u001b[0m\u001b[0;34m\u001b[0m\u001b[0m\n\u001b[0m\u001b[1;32m    259\u001b[0m \u001b[0;34m\u001b[0m\u001b[0m\n\u001b[1;32m    260\u001b[0m \u001b[0;34m\u001b[0m\u001b[0m\n",
      "\u001b[0;32m/opt/conda/lib/python3.7/site-packages/h2o/h2o.py\u001b[0m in \u001b[0;36mapi\u001b[0;34m(endpoint, data, json, filename, save_to)\u001b[0m\n\u001b[1;32m    111\u001b[0m     \u001b[0;31m# type checks are performed in H2OConnection class\u001b[0m\u001b[0;34m\u001b[0m\u001b[0;34m\u001b[0m\u001b[0;34m\u001b[0m\u001b[0m\n\u001b[1;32m    112\u001b[0m     \u001b[0m_check_connection\u001b[0m\u001b[0;34m(\u001b[0m\u001b[0;34m)\u001b[0m\u001b[0;34m\u001b[0m\u001b[0;34m\u001b[0m\u001b[0m\n\u001b[0;32m--> 113\u001b[0;31m     \u001b[0;32mreturn\u001b[0m \u001b[0mh2oconn\u001b[0m\u001b[0;34m.\u001b[0m\u001b[0mrequest\u001b[0m\u001b[0;34m(\u001b[0m\u001b[0mendpoint\u001b[0m\u001b[0;34m,\u001b[0m \u001b[0mdata\u001b[0m\u001b[0;34m=\u001b[0m\u001b[0mdata\u001b[0m\u001b[0;34m,\u001b[0m \u001b[0mjson\u001b[0m\u001b[0;34m=\u001b[0m\u001b[0mjson\u001b[0m\u001b[0;34m,\u001b[0m \u001b[0mfilename\u001b[0m\u001b[0;34m=\u001b[0m\u001b[0mfilename\u001b[0m\u001b[0;34m,\u001b[0m \u001b[0msave_to\u001b[0m\u001b[0;34m=\u001b[0m\u001b[0msave_to\u001b[0m\u001b[0;34m)\u001b[0m\u001b[0;34m\u001b[0m\u001b[0;34m\u001b[0m\u001b[0m\n\u001b[0m\u001b[1;32m    114\u001b[0m \u001b[0;34m\u001b[0m\u001b[0m\n\u001b[1;32m    115\u001b[0m \u001b[0;34m\u001b[0m\u001b[0m\n",
      "\u001b[0;32m/opt/conda/lib/python3.7/site-packages/h2o/backend/connection.py\u001b[0m in \u001b[0;36mrequest\u001b[0;34m(self, endpoint, data, json, filename, save_to)\u001b[0m\n\u001b[1;32m    479\u001b[0m                 \u001b[0msave_to\u001b[0m \u001b[0;34m=\u001b[0m \u001b[0msave_to\u001b[0m\u001b[0;34m(\u001b[0m\u001b[0mresp\u001b[0m\u001b[0;34m)\u001b[0m\u001b[0;34m\u001b[0m\u001b[0;34m\u001b[0m\u001b[0m\n\u001b[1;32m    480\u001b[0m             \u001b[0mself\u001b[0m\u001b[0;34m.\u001b[0m\u001b[0m_log_end_transaction\u001b[0m\u001b[0;34m(\u001b[0m\u001b[0mstart_time\u001b[0m\u001b[0;34m,\u001b[0m \u001b[0mresp\u001b[0m\u001b[0;34m)\u001b[0m\u001b[0;34m\u001b[0m\u001b[0;34m\u001b[0m\u001b[0m\n\u001b[0;32m--> 481\u001b[0;31m             \u001b[0;32mreturn\u001b[0m \u001b[0mself\u001b[0m\u001b[0;34m.\u001b[0m\u001b[0m_process_response\u001b[0m\u001b[0;34m(\u001b[0m\u001b[0mresp\u001b[0m\u001b[0;34m,\u001b[0m \u001b[0msave_to\u001b[0m\u001b[0;34m)\u001b[0m\u001b[0;34m\u001b[0m\u001b[0;34m\u001b[0m\u001b[0m\n\u001b[0m\u001b[1;32m    482\u001b[0m \u001b[0;34m\u001b[0m\u001b[0m\n\u001b[1;32m    483\u001b[0m         \u001b[0;32mexcept\u001b[0m \u001b[0;34m(\u001b[0m\u001b[0mrequests\u001b[0m\u001b[0;34m.\u001b[0m\u001b[0mexceptions\u001b[0m\u001b[0;34m.\u001b[0m\u001b[0mConnectionError\u001b[0m\u001b[0;34m,\u001b[0m \u001b[0mrequests\u001b[0m\u001b[0;34m.\u001b[0m\u001b[0mexceptions\u001b[0m\u001b[0;34m.\u001b[0m\u001b[0mHTTPError\u001b[0m\u001b[0;34m)\u001b[0m \u001b[0;32mas\u001b[0m \u001b[0me\u001b[0m\u001b[0;34m:\u001b[0m\u001b[0;34m\u001b[0m\u001b[0;34m\u001b[0m\u001b[0m\n",
      "\u001b[0;32m/opt/conda/lib/python3.7/site-packages/h2o/backend/connection.py\u001b[0m in \u001b[0;36m_process_response\u001b[0;34m(response, save_to)\u001b[0m\n\u001b[1;32m    817\u001b[0m         \u001b[0;32mif\u001b[0m \u001b[0mstatus_code\u001b[0m \u001b[0;32min\u001b[0m \u001b[0;34m{\u001b[0m\u001b[0;36m400\u001b[0m\u001b[0;34m,\u001b[0m \u001b[0;36m404\u001b[0m\u001b[0;34m,\u001b[0m \u001b[0;36m412\u001b[0m\u001b[0;34m}\u001b[0m \u001b[0;32mand\u001b[0m \u001b[0misinstance\u001b[0m\u001b[0;34m(\u001b[0m\u001b[0mdata\u001b[0m\u001b[0;34m,\u001b[0m \u001b[0mH2OErrorV3\u001b[0m\u001b[0;34m)\u001b[0m\u001b[0;34m:\u001b[0m\u001b[0;34m\u001b[0m\u001b[0;34m\u001b[0m\u001b[0m\n\u001b[1;32m    818\u001b[0m             \u001b[0mdata\u001b[0m\u001b[0;34m.\u001b[0m\u001b[0mshow_stacktrace\u001b[0m \u001b[0;34m=\u001b[0m \u001b[0;32mFalse\u001b[0m\u001b[0;34m\u001b[0m\u001b[0;34m\u001b[0m\u001b[0m\n\u001b[0;32m--> 819\u001b[0;31m             \u001b[0;32mraise\u001b[0m \u001b[0mH2OResponseError\u001b[0m\u001b[0;34m(\u001b[0m\u001b[0mdata\u001b[0m\u001b[0;34m)\u001b[0m\u001b[0;34m\u001b[0m\u001b[0;34m\u001b[0m\u001b[0m\n\u001b[0m\u001b[1;32m    820\u001b[0m \u001b[0;34m\u001b[0m\u001b[0m\n\u001b[1;32m    821\u001b[0m         \u001b[0;31m# Server errors (notably 500 = \"Server Error\")\u001b[0m\u001b[0;34m\u001b[0m\u001b[0;34m\u001b[0m\u001b[0;34m\u001b[0m\u001b[0m\n",
      "\u001b[0;31mH2OResponseError\u001b[0m: Server error java.lang.IllegalArgumentException:\n  Error: Column commentId not found\n  Request: POST /99/Rapids\n    data: {'ast': \"(tmp= py_208_sid_9e04 (cols_py ShareChat_IndoML_Datathon_NSFW_CommentChallenge_Test_20_Percent_NoLabel.hex 'commentId'))\", 'session_id': '_sid_9e04'}\n"
     ]
    }
   ],
   "source": [
    "idx = test['commentId'].as_data_frame().values.flatten()\n",
    "fault = preds.as_data_frame().values.flatten()\n",
    "\n",
    "\n",
    "bigdata = np.column_stack((idx,fault))\n",
    "bigdata = pd.DataFrame(bigdata, columns = ['commentId', 'label'])\n",
    "bigdata.loc[bigdata['label'] >= 0.5, 'label'] = 1\n",
    "bigdata.loc[bigdata['label'] < 0.5, 'label'] = 0\n",
    "bigdata['commentId'] = bigdata[\"commentId\"].astype(\"Int32\")\n",
    "bigdata[\"label\"] = bigdata[\"label\"].astype(\"Int64\")\n",
    "bigdata.to_csv('automl.csv',index=False)"
   ]
  }
 ],
 "metadata": {
  "kernelspec": {
   "display_name": "Python 3",
   "language": "python",
   "name": "python3"
  },
  "language_info": {
   "codemirror_mode": {
    "name": "ipython",
    "version": 3
   },
   "file_extension": ".py",
   "mimetype": "text/x-python",
   "name": "python",
   "nbconvert_exporter": "python",
   "pygments_lexer": "ipython3",
   "version": "3.7.10"
  },
  "papermill": {
   "default_parameters": {},
   "duration": 19152.300439,
   "end_time": "2021-11-20T00:14:16.340407",
   "environment_variables": {},
   "exception": true,
   "input_path": "__notebook__.ipynb",
   "output_path": "__notebook__.ipynb",
   "parameters": {},
   "start_time": "2021-11-19T18:55:04.039968",
   "version": "2.3.3"
  }
 },
 "nbformat": 4,
 "nbformat_minor": 5
}
